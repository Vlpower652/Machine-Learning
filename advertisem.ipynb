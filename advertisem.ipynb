python implementation of simple Linear Regression on salary data of software engineers
step 1: import the libraries
import numpy as np
import matplotlib.pyplot as plt
import pandas as pd
from sklearn.model_selection import train_test_split
from sklearn.linear_model import LinearRegression
step 2: reading the data and splitting it to input and output
dataset = pd.read_csv('https://raw.githubusercontent.com/enuguru/aiandml/master/datasets/salary_regression_train.csv')
inputx = dataset.iloc[:, :-1].values
outputy = dataset.iloc[:, 1].values
print(dataset)
    YearsExperience    Salary
0               1.1   39343.0
1               1.3   46205.0
2               1.5   37731.0
3               2.0   43525.0
4               2.2   39891.0
5               2.9   56642.0
6               3.0   60150.0
7               3.2   54445.0
8               3.2   64445.0
9               3.7   57189.0
10              3.9   63218.0
11              4.0   55794.0
12              4.0   56957.0
13              4.1   57081.0
14              4.5   61111.0
15              4.9   67938.0
16              5.1   66029.0
17              5.3   83088.0
18              5.9   81363.0
19              6.0   93940.0
20              6.8   91738.0
21              7.1   98273.0
22              7.9  101302.0
23              8.2  113812.0
24              8.7  109431.0
25              9.0  105582.0
26              9.5  116969.0
27              9.6  112635.0
28             10.3  122391.0
29             10.5  121872.0
step 3: select one thirds of the data for testing and two thirds for training
input_train, input_test, output_train, output_test = train_test_split(inputx, outputy, test_size = 1/4, random_state = 7)
step 4: selecting the simple Linear Regression model
model = LinearRegression()
print("\nThe parameters of the model are\n\n",model.get_params())
#print(model.set_params())
print("\nThe model we are using is ", model.fit(input_train, output_train))
The parameters of the model are

 {'copy_X': True, 'fit_intercept': True, 'n_jobs': None, 'positive': False}

The model we are using is  LinearRegression()
step 5: testing or model prediction using testinput
years = float(input("\nGive number of years of experience  "))
testinput = [[years]]
predicted_output = model.predict(testinput)
print('\nThe number of years of experience is ',testinput) 
print('\nThe salary for the number of years of experience is ',predicted_output) 
yes = input("\nCan I proceed\n")
The number of years of experience is  [[7.0]]

The salary for the number of years of experience is  [91753.71618073]
step 6: Visualising the training results
plt.scatter(input_train, output_train, color = 'red')
plt.plot(input_train, model.predict(input_train), color = 'yellow')
plt.title('Salary vs Experience (Training set)')
plt.xlabel('Years of Experience')
plt.ylabel('Salary')
plt.show()

step 7: Printing the testing results
print("\nThe test input (number of years of experience) is as follows \n")
print(input_test)
# model predicting the Test set results
predicted_output = model.predict(input_test)
print("\nThe output (salary) for the test input is as follows \n")
print(predicted_output)
The test input (number of years of experience) is as follows 

[[1.5]
 [5.3]
 [1.3]
 [3.7]
 [4. ]
 [2.9]
 [5.9]
 [8.7]]

The output (salary) for the test input is as follows 

[ 39329.30192021  75549.80631839  37422.95958346  60299.06762442
