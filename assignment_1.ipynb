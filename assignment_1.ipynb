
import pandas as pd
from sklearn.linear_model import LinearRegression
from sklearn.metrics import mean_squared_error, r2_score

# Step 1: Define the dataset
data = {
    "TV Budget ($)": [230.1, 44.5, 17.2, 151.5, 180.8, 8.7, 57.5, 120.2, 144.1, 111.6],
    "Radio Budget ($)": [37.8, 39.3, 45.9, 41.3, 10.8, 48.9, 32.8, 19.6, 16.0, 12.6],
    "Newspaper Budget ($)": [69.2, 45.1, 69.3, 58.5, 58.4, 75.0, 23.5, 11.6, 40.3, 37.9],
    "Sales (units)": [22.1, 10.4, 9.3, 18.5, 12.9, 7.2, 11.8, 13.2, 15.6, 12.2]
}

# Step 2: Create a DataFrame
df = pd.DataFrame(data)

# Step 3: Define features and target
X = df[["TV Budget ($)", "Radio Budget ($)", "Newspaper Budget ($)"]]
y = df["Sales (units)"]

# Step 4: Create and train the model
model = LinearRegression()
model.fit(X, y)

# Step 5: Make predictions
y_pred = model.predict(X)

# Step 6: Output model coefficients and performance metrics
print("Model Coefficients:")
for feature, coef in zip(X.columns, model.coef_):
    print(f"{feature}: {coef:.4f}")
print(f"Intercept: {model.intercept_:.4f}")

# Step 7: Evaluate the model
mse = mean_squared_error(y, y_pred)
r2 = r2_score(y, y_pred)
print(f"Mean Squared Error: {mse:.4f}")
print(f"R-squared: {r2:.4f}")
